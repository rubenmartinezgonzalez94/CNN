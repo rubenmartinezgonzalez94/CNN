{
  "nbformat": 4,
  "nbformat_minor": 0,
  "metadata": {
    "colab": {
      "provenance": []
    },
    "kernelspec": {
      "name": "python3",
      "language": "python",
      "display_name": "Python 3 (ipykernel)"
    },
    "language_info": {
      "name": "python"
    }
  },
  "cells": [
    {
      "cell_type": "markdown",
      "source": [
        "Artificial Neural Networks\n",
        "\n",
        "Implementar una Red Neuronal Artificial Multiclase para la clasificación de imágenes de dígitos  del 0 al 9 escritos a mano (handwriting digit recognition).\n"
      ],
      "metadata": {
        "id": "8EwyI8dPErMQ"
      }
    },
    {
      "cell_type": "code",
      "source": [
        "!pip install --upgrade gdown"
      ],
      "metadata": {
        "colab": {
          "base_uri": "https://localhost:8080/"
        },
        "id": "bEZDuwAWeIY2",
        "outputId": "6f3fa297-9454-4cda-8a20-102b1e5a9723",
        "ExecuteTime": {
          "end_time": "2024-03-19T03:14:39.502448300Z",
          "start_time": "2024-03-19T03:14:33.234924500Z"
        }
      },
      "execution_count": null,
      "outputs": [
        {
          "output_type": "stream",
          "name": "stdout",
          "text": [
            "Requirement already satisfied: gdown in /usr/local/lib/python3.10/dist-packages (4.7.3)\n",
            "Collecting gdown\n",
            "  Downloading gdown-5.1.0-py3-none-any.whl (17 kB)\n",
            "Requirement already satisfied: beautifulsoup4 in /usr/local/lib/python3.10/dist-packages (from gdown) (4.12.3)\n",
            "Requirement already satisfied: filelock in /usr/local/lib/python3.10/dist-packages (from gdown) (3.13.1)\n",
            "Requirement already satisfied: requests[socks] in /usr/local/lib/python3.10/dist-packages (from gdown) (2.31.0)\n",
            "Requirement already satisfied: tqdm in /usr/local/lib/python3.10/dist-packages (from gdown) (4.66.2)\n",
            "Requirement already satisfied: soupsieve>1.2 in /usr/local/lib/python3.10/dist-packages (from beautifulsoup4->gdown) (2.5)\n",
            "Requirement already satisfied: charset-normalizer<4,>=2 in /usr/local/lib/python3.10/dist-packages (from requests[socks]->gdown) (3.3.2)\n",
            "Requirement already satisfied: idna<4,>=2.5 in /usr/local/lib/python3.10/dist-packages (from requests[socks]->gdown) (3.6)\n",
            "Requirement already satisfied: urllib3<3,>=1.21.1 in /usr/local/lib/python3.10/dist-packages (from requests[socks]->gdown) (2.0.7)\n",
            "Requirement already satisfied: certifi>=2017.4.17 in /usr/local/lib/python3.10/dist-packages (from requests[socks]->gdown) (2024.2.2)\n",
            "Requirement already satisfied: PySocks!=1.5.7,>=1.5.6 in /usr/local/lib/python3.10/dist-packages (from requests[socks]->gdown) (1.7.1)\n",
            "Installing collected packages: gdown\n",
            "  Attempting uninstall: gdown\n",
            "    Found existing installation: gdown 4.7.3\n",
            "    Uninstalling gdown-4.7.3:\n",
            "      Successfully uninstalled gdown-4.7.3\n",
            "Successfully installed gdown-5.1.0\n"
          ]
        }
      ]
    },
    {
      "cell_type": "code",
      "source": [
        "!gdown --id 1x0JbCKDCGtynM6GnunAOdDYlyt7dI0B- -O mnist.txt"
      ],
      "metadata": {
        "colab": {
          "base_uri": "https://localhost:8080/"
        },
        "id": "aJFzj-QqGU4J",
        "outputId": "b7041720-2d52-4d88-9e9a-1811583c5fd3",
        "ExecuteTime": {
          "end_time": "2024-03-19T03:14:43.401776200Z",
          "start_time": "2024-03-19T03:14:39.503445700Z"
        }
      },
      "execution_count": null,
      "outputs": [
        {
          "output_type": "stream",
          "name": "stdout",
          "text": [
            "/usr/local/lib/python3.10/dist-packages/gdown/__main__.py:132: FutureWarning: Option `--id` was deprecated in version 4.3.1 and will be removed in 5.0. You don't need to pass it anymore to use a file ID.\n",
            "  warnings.warn(\n",
            "Downloading...\n",
            "From: https://drive.google.com/uc?id=1x0JbCKDCGtynM6GnunAOdDYlyt7dI0B-\n",
            "To: /content/mnist.txt\n",
            "100% 9.13M/9.13M [00:00<00:00, 51.3MB/s]\n"
          ]
        }
      ]
    },
    {
      "cell_type": "code",
      "source": [
        "import numpy as np\n",
        "import matplotlib.pyplot as plt"
      ],
      "metadata": {
        "id": "QQmNw-J_nyWP",
        "ExecuteTime": {
          "end_time": "2024-03-19T03:14:43.406014100Z",
          "start_time": "2024-03-19T03:14:43.404015200Z"
        }
      },
      "execution_count": null,
      "outputs": []
    },
    {
      "cell_type": "markdown",
      "source": [
        "# Procesamiento de datos"
      ],
      "metadata": {
        "id": "3wz2QaHAFGfD"
      }
    },
    {
      "cell_type": "markdown",
      "source": [
        " la base de datos consiste en 785 elementos separados por comas, donde los\n",
        "primeros 784 valores identifican los pixeles de la imágen del dígito, y el último valor del renglón\n",
        "indica la clase a la que pertenece"
      ],
      "metadata": {
        "id": "8yINHWqdepvf"
      }
    },
    {
      "cell_type": "code",
      "source": [
        "def load_data(file_path):\n",
        "    with open(file_path) as file:\n",
        "        data = [line.strip().split(\" \") for line in file]\n",
        "        features = [np.asarray(data_point[:784], dtype=float) for data_point in data] # pixeles de la imágen\n",
        "        labels = [float(data_point[-1]) for data_point in data]                       # clase a la que pertenece\n",
        "\n",
        "    return features, labels"
      ],
      "metadata": {
        "id": "1Kz953sWDQe8",
        "ExecuteTime": {
          "end_time": "2024-03-19T03:14:43.411406500Z",
          "start_time": "2024-03-19T03:14:43.408008300Z"
        }
      },
      "execution_count": null,
      "outputs": []
    },
    {
      "cell_type": "code",
      "source": [
        "# Cargar los datos\n",
        "file_path = \"mnist.txt\"\n",
        "images, labels = load_data(file_path)\n",
        "print(len(images))\n",
        "print(len(labels))"
      ],
      "metadata": {
        "colab": {
          "base_uri": "https://localhost:8080/"
        },
        "id": "FFj6ucNMjniu",
        "outputId": "1fc8a2f9-7218-43d5-9252-14265e6e2cb6",
        "ExecuteTime": {
          "end_time": "2024-03-19T03:14:44.009711100Z",
          "start_time": "2024-03-19T03:14:43.416065400Z"
        }
      },
      "execution_count": null,
      "outputs": [
        {
          "output_type": "stream",
          "name": "stdout",
          "text": [
            "5000\n",
            "5000\n"
          ]
        }
      ]
    },
    {
      "cell_type": "code",
      "source": [
        "def visualize_image(images, labels, n):\n",
        "    if n >= len(images):\n",
        "        print(\"El índice n está fuera del rango.\")\n",
        "        return\n",
        "    image = images[n].reshape(28, 28)  # reconstruye la imagen en una matriz de 28x28\n",
        "    label = int(labels[n])\n",
        "\n",
        "    plt.imshow(image, cmap='gray')\n",
        "    plt.title(f\"Imagen del dígito: {label} índice:{n}\")\n",
        "    plt.axis('off')\n",
        "    plt.show()"
      ],
      "metadata": {
        "id": "tQFE9l2ln0iW",
        "ExecuteTime": {
          "end_time": "2024-03-19T04:24:41.396229700Z",
          "start_time": "2024-03-19T04:24:41.369793300Z"
        }
      },
      "execution_count": null,
      "outputs": []
    },
    {
      "cell_type": "code",
      "source": [
        "# Visualizar la imagen en la posición n\n",
        "import random\n",
        "n = random.randint(0, 5000)\n",
        "visualize_image(images, labels, n)"
      ],
      "metadata": {
        "colab": {
          "base_uri": "https://localhost:8080/",
          "height": 429
        },
        "id": "x5FaAKM9qAu2",
        "outputId": "84ad7c67-5427-4bde-cea8-9f5edc83c413",
        "ExecuteTime": {
          "end_time": "2024-03-19T03:14:44.077092300Z",
          "start_time": "2024-03-19T03:14:44.008716900Z"
        }
      },
      "execution_count": null,
      "outputs": [
        {
          "output_type": "display_data",
          "data": {
            "text/plain": [
              "<Figure size 640x480 with 1 Axes>"
            ],
            "image/png": "[encoded data removed]"
          },
          "metadata": {}
        }
      ]
    },
    {
      "cell_type": "code",
      "source": [
        "from sklearn.model_selection import train_test_split"
      ],
      "metadata": {
        "id": "lzBemAyZBBSl",
        "ExecuteTime": {
          "end_time": "2024-03-19T03:14:50.051988400Z",
          "start_time": "2024-03-19T03:14:50.046900900Z"
        }
      },
      "execution_count": null,
      "outputs": []
    },
    {
      "cell_type": "markdown",
      "source": [
        "# Separación de datos"
      ],
      "metadata": {
        "id": "S3XEEPenFIDb"
      }
    },
    {
      "cell_type": "code",
      "outputs": [],
      "source": [
        "X_train, X_test, Y_train, Y_test = train_test_split(np.asarray(images[:1000]), labels[:1000], test_size=0.1, shuffle=True)"
      ],
      "metadata": {
        "id": "2edZJmRDAmKd",
        "ExecuteTime": {
          "end_time": "2024-03-19T03:14:50.063260800Z",
          "start_time": "2024-03-19T03:14:50.054916400Z"
        }
      },
      "execution_count": null
    },
    {
      "cell_type": "markdown",
      "source": [
        "# Regresión logística"
      ],
      "metadata": {
        "id": "viqSStoQE2k6"
      }
    },
    {
      "cell_type": "code",
      "source": [
        "class CrossEntropy:\n",
        "    def __init__(self, epsilon=1e-10):# Valor pequeño para evitar errores matemáticos\n",
        "        self.epsilon = epsilon\n",
        "\n",
        "    def __call__(self, P, Y): # Función de costo de entropía cruzada\n",
        "        return -np.mean(Y * np.log(P + self.epsilon) + (1 - Y) * np.log(1 - P + self.epsilon))\n",
        "\n",
        "    def derivative(self, P, Y):\n",
        "        return -(Y / (P + self.epsilon)) + (1 - Y) / (1 - P + self.epsilon)"
      ],
      "metadata": {
        "ExecuteTime": {
          "end_time": "2024-03-19T03:14:44.084885400Z",
          "start_time": "2024-03-19T03:14:44.080388600Z"
        },
        "id": "6cbSxJpu-_Aj"
      },
      "execution_count": null,
      "outputs": []
    },
    {
      "cell_type": "markdown",
      "source": [
        "# Función de activación"
      ],
      "metadata": {
        "id": "-_Danl98E7FS"
      }
    },
    {
      "cell_type": "code",
      "source": [
        "class Sigmoid: # Sigmoid Activation function\n",
        "    def __call__(self, x):\n",
        "        return 1 / (1 + np.e ** (-x))\n",
        "\n",
        "    def derivative(self, x):\n",
        "        return x * (1 - x)"
      ],
      "metadata": {
        "id": "ZT3KBpIsEvib"
      },
      "execution_count": null,
      "outputs": []
    },
    {
      "cell_type": "markdown",
      "source": [
        "# Capas de la RED"
      ],
      "metadata": {
        "id": "JuCxbG_WFutR"
      }
    },
    {
      "cell_type": "code",
      "source": [
        "class Layer:\n",
        "    def __init__(self, connexions, neurons):\n",
        "        self.connexions = connexions\n",
        "        self.neurons = neurons\n",
        "        self.bias = np.random.rand(1, neurons) * 2 - 1\n",
        "        self.weights = np.random.rand(connexions, neurons) * 2 - 1"
      ],
      "metadata": {
        "id": "mf5tY3PRvrjn",
        "ExecuteTime": {
          "end_time": "2024-03-19T03:14:44.089552200Z",
          "start_time": "2024-03-19T03:14:44.083886200Z"
        }
      },
      "execution_count": null,
      "outputs": []
    },
    {
      "cell_type": "code",
      "outputs": [
        {
          "output_type": "stream",
          "name": "stdout",
          "text": [
            "Requirement already satisfied: tensorflow in /usr/local/lib/python3.10/dist-packages (2.15.0)\n",
            "Requirement already satisfied: absl-py>=1.0.0 in /usr/local/lib/python3.10/dist-packages (from tensorflow) (1.4.0)\n",
            "Requirement already satisfied: astunparse>=1.6.0 in /usr/local/lib/python3.10/dist-packages (from tensorflow) (1.6.3)\n",
            "Requirement already satisfied: flatbuffers>=23.5.26 in /usr/local/lib/python3.10/dist-packages (from tensorflow) (24.3.7)\n",
            "Requirement already satisfied: gast!=0.5.0,!=0.5.1,!=0.5.2,>=0.2.1 in /usr/local/lib/python3.10/dist-packages (from tensorflow) (0.5.4)\n",
            "Requirement already satisfied: google-pasta>=0.1.1 in /usr/local/lib/python3.10/dist-packages (from tensorflow) (0.2.0)\n",
            "Requirement already satisfied: h5py>=2.9.0 in /usr/local/lib/python3.10/dist-packages (from tensorflow) (3.9.0)\n",
            "Requirement already satisfied: libclang>=13.0.0 in /usr/local/lib/python3.10/dist-packages (from tensorflow) (16.0.6)\n",
            "Requirement already satisfied: ml-dtypes~=0.2.0 in /usr/local/lib/python3.10/dist-packages (from tensorflow) (0.2.0)\n",
            "Requirement already satisfied: numpy<2.0.0,>=1.23.5 in /usr/local/lib/python3.10/dist-packages (from tensorflow) (1.25.2)\n",
            "Requirement already satisfied: opt-einsum>=2.3.2 in /usr/local/lib/python3.10/dist-packages (from tensorflow) (3.3.0)\n",
            "Requirement already satisfied: packaging in /usr/local/lib/python3.10/dist-packages (from tensorflow) (24.0)\n",
            "Requirement already satisfied: protobuf!=4.21.0,!=4.21.1,!=4.21.2,!=4.21.3,!=4.21.4,!=4.21.5,<5.0.0dev,>=3.20.3 in /usr/local/lib/python3.10/dist-packages (from tensorflow) (3.20.3)\n",
            "Requirement already satisfied: setuptools in /usr/local/lib/python3.10/dist-packages (from tensorflow) (67.7.2)\n",
            "Requirement already satisfied: six>=1.12.0 in /usr/local/lib/python3.10/dist-packages (from tensorflow) (1.16.0)\n",
            "Requirement already satisfied: termcolor>=1.1.0 in /usr/local/lib/python3.10/dist-packages (from tensorflow) (2.4.0)\n",
            "Requirement already satisfied: typing-extensions>=3.6.6 in /usr/local/lib/python3.10/dist-packages (from tensorflow) (4.10.0)\n",
            "Requirement already satisfied: wrapt<1.15,>=1.11.0 in /usr/local/lib/python3.10/dist-packages (from tensorflow) (1.14.1)\n",
            "Requirement already satisfied: tensorflow-io-gcs-filesystem>=0.23.1 in /usr/local/lib/python3.10/dist-packages (from tensorflow) (0.36.0)\n",
            "Requirement already satisfied: grpcio<2.0,>=1.24.3 in /usr/local/lib/python3.10/dist-packages (from tensorflow) (1.62.1)\n",
            "Requirement already satisfied: tensorboard<2.16,>=2.15 in /usr/local/lib/python3.10/dist-packages (from tensorflow) (2.15.2)\n",
            "Requirement already satisfied: tensorflow-estimator<2.16,>=2.15.0 in /usr/local/lib/python3.10/dist-packages (from tensorflow) (2.15.0)\n",
            "Requirement already satisfied: keras<2.16,>=2.15.0 in /usr/local/lib/python3.10/dist-packages (from tensorflow) (2.15.0)\n",
            "Requirement already satisfied: wheel<1.0,>=0.23.0 in /usr/local/lib/python3.10/dist-packages (from astunparse>=1.6.0->tensorflow) (0.43.0)\n",
            "Requirement already satisfied: google-auth<3,>=1.6.3 in /usr/local/lib/python3.10/dist-packages (from tensorboard<2.16,>=2.15->tensorflow) (2.27.0)\n",
            "Requirement already satisfied: google-auth-oauthlib<2,>=0.5 in /usr/local/lib/python3.10/dist-packages (from tensorboard<2.16,>=2.15->tensorflow) (1.2.0)\n",
            "Requirement already satisfied: markdown>=2.6.8 in /usr/local/lib/python3.10/dist-packages (from tensorboard<2.16,>=2.15->tensorflow) (3.6)\n",
            "Requirement already satisfied: requests<3,>=2.21.0 in /usr/local/lib/python3.10/dist-packages (from tensorboard<2.16,>=2.15->tensorflow) (2.31.0)\n",
            "Requirement already satisfied: tensorboard-data-server<0.8.0,>=0.7.0 in /usr/local/lib/python3.10/dist-packages (from tensorboard<2.16,>=2.15->tensorflow) (0.7.2)\n",
            "Requirement already satisfied: werkzeug>=1.0.1 in /usr/local/lib/python3.10/dist-packages (from tensorboard<2.16,>=2.15->tensorflow) (3.0.1)\n",
            "Requirement already satisfied: cachetools<6.0,>=2.0.0 in /usr/local/lib/python3.10/dist-packages (from google-auth<3,>=1.6.3->tensorboard<2.16,>=2.15->tensorflow) (5.3.3)\n",
            "Requirement already satisfied: pyasn1-modules>=0.2.1 in /usr/local/lib/python3.10/dist-packages (from google-auth<3,>=1.6.3->tensorboard<2.16,>=2.15->tensorflow) (0.3.0)\n",
            "Requirement already satisfied: rsa<5,>=3.1.4 in /usr/local/lib/python3.10/dist-packages (from google-auth<3,>=1.6.3->tensorboard<2.16,>=2.15->tensorflow) (4.9)\n",
            "Requirement already satisfied: requests-oauthlib>=0.7.0 in /usr/local/lib/python3.10/dist-packages (from google-auth-oauthlib<2,>=0.5->tensorboard<2.16,>=2.15->tensorflow) (1.4.0)\n",
            "Requirement already satisfied: charset-normalizer<4,>=2 in /usr/local/lib/python3.10/dist-packages (from requests<3,>=2.21.0->tensorboard<2.16,>=2.15->tensorflow) (3.3.2)\n",
            "Requirement already satisfied: idna<4,>=2.5 in /usr/local/lib/python3.10/dist-packages (from requests<3,>=2.21.0->tensorboard<2.16,>=2.15->tensorflow) (3.6)\n",
            "Requirement already satisfied: urllib3<3,>=1.21.1 in /usr/local/lib/python3.10/dist-packages (from requests<3,>=2.21.0->tensorboard<2.16,>=2.15->tensorflow) (2.0.7)\n",
            "Requirement already satisfied: certifi>=2017.4.17 in /usr/local/lib/python3.10/dist-packages (from requests<3,>=2.21.0->tensorboard<2.16,>=2.15->tensorflow) (2024.2.2)\n",
            "Requirement already satisfied: MarkupSafe>=2.1.1 in /usr/local/lib/python3.10/dist-packages (from werkzeug>=1.0.1->tensorboard<2.16,>=2.15->tensorflow) (2.1.5)\n",
            "Requirement already satisfied: pyasn1<0.6.0,>=0.4.6 in /usr/local/lib/python3.10/dist-packages (from pyasn1-modules>=0.2.1->google-auth<3,>=1.6.3->tensorboard<2.16,>=2.15->tensorflow) (0.5.1)\n",
            "Requirement already satisfied: oauthlib>=3.0.0 in /usr/local/lib/python3.10/dist-packages (from requests-oauthlib>=0.7.0->google-auth-oauthlib<2,>=0.5->tensorboard<2.16,>=2.15->tensorflow) (3.2.2)\n"
          ]
        }
      ],
      "source": [
        "!pip install tensorflow\n",
        "from tensorflow.keras.utils import to_categorical"
      ],
      "metadata": {
        "ExecuteTime": {
          "end_time": "2024-03-19T03:14:50.035561900Z",
          "start_time": "2024-03-19T03:14:44.089552200Z"
        },
        "colab": {
          "base_uri": "https://localhost:8080/"
        },
        "id": "8bvU9hFO-_Ak",
        "outputId": "baaaa459-827c-4d63-ecc7-0637501e5e56"
      },
      "execution_count": null
    },
    {
      "cell_type": "code",
      "source": [
        "# Class to instatiate the model\n",
        "class neural_network():\n",
        "    def __init__(self, layers):\n",
        "        self.layers = layers\n",
        "        self.cost_function = CrossEntropy()\n",
        "\n",
        "    def _forward_propagation(self, input_data):\n",
        "        activation = Sigmoid()\n",
        "        fwrd_result = [(None, input_data)]\n",
        "        for l, layer in enumerate(self.layers):\n",
        "            z = fwrd_result[-1][1] @ layer.weights + layer.bias\n",
        "            a = activation(z)\n",
        "            fwrd_result.append((z, a))\n",
        "        return fwrd_result\n",
        "\n",
        "    def _backward_propagation(self, labels, fwrd_pass):\n",
        "        activation = Sigmoid()\n",
        "        gradients = list()\n",
        "        for layer_index, layer in reversed(list(enumerate(self.layers))): # Iteramos las capas de atrás hacia adelante\n",
        "            current_fwrd = fwrd_pass[layer_index+1][1]\n",
        "            if not gradients: #  capa de salida  derivada de la función de coste\n",
        "                gradients.insert(0, self.cost_function.derivative(current_fwrd, labels) * activation.derivative(current_fwrd))\n",
        "            else:\n",
        "                previous_layer_weights = self.layers[layer_index + 1].weights.T\n",
        "                gradients.insert(0, gradients[0] @ previous_layer_weights * activation.derivative(current_fwrd))\n",
        "        return gradients\n",
        "\n",
        "    def train(self, X, Y, learning_rate, epochs):\n",
        "        history = list()\n",
        "        print_interval = epochs // 5  # Imprimir la pérdida cada 20% del entrenamiento\n",
        "\n",
        "        for epoch  in tqdm(range(epochs)):\n",
        "            # calcular (a,z) para cada capa y almacenarlos en una lista\n",
        "            forward_pass = self._forward_propagation(X/255)\n",
        "\n",
        "            # Calcular la pérdida para seguir el rendimiento del modelo durante el entrenamiento\n",
        "            loss = self.cost_function(forward_pass[-1][1], to_categorical(Y))\n",
        "                                     #forward_pass[-1][1] representa las activaciones de la última capa de la red.\n",
        "\n",
        "            # calcular las derivadas de la función de coste con respecto a los pesos y sesgos (gradientes)\n",
        "            gradients = self._backward_propagation(to_categorical(Y), forward_pass)\n",
        "\n",
        "            # Actualización de los pesos y sesgos\n",
        "            for layer_index, _ in reversed(list(enumerate(self.layers))):\n",
        "                layer = self.layers[layer_index]\n",
        "                layer.bias -= learning_rate * np.mean(gradients[layer_index], axis=0, keepdims=True)\n",
        "                layer.weights -= learning_rate * forward_pass[layer_index][1].T @ gradients[layer_index]\n",
        "\n",
        "            history.append(loss)\n",
        "\n",
        "            # Imprimir la pérdida cada 20% de las épocas\n",
        "            if (epoch + 1) % print_interval == 0:\n",
        "                print(f'Pérdida después de {((epoch+1)/epochs) * 100:.0f}% de las épocas: {loss}')\n",
        "\n",
        "        return history\n",
        "\n",
        "    def predict(self, X):\n",
        "        # Realizamos la propagación hacia adelante\n",
        "        forward_pass = self._forward_propagation(X)\n",
        "\n",
        "        # Obtenemos las activaciones de la última capa\n",
        "        last_layer_activations = forward_pass[-1][1]\n",
        "\n",
        "        # Para cada conjunto de activaciones, seleccionamos el índice con la mayor activación\n",
        "        predictions = [np.argmax(activations) for activations in last_layer_activations]\n",
        "\n",
        "        return predictions"
      ],
      "metadata": {
        "id": "gIajuUr8_zzM",
        "ExecuteTime": {
          "end_time": "2024-03-19T03:31:08.979970700Z",
          "start_time": "2024-03-19T03:31:08.978965300Z"
        }
      },
      "execution_count": null,
      "outputs": []
    },
    {
      "cell_type": "code",
      "source": [
        "from tqdm import tqdm"
      ],
      "metadata": {
        "id": "hKrJrvx4_56u",
        "ExecuteTime": {
          "end_time": "2024-03-19T03:14:50.055913Z",
          "start_time": "2024-03-19T03:14:50.050991Z"
        }
      },
      "execution_count": null,
      "outputs": []
    },
    {
      "cell_type": "code",
      "outputs": [],
      "source": [
        "model = neural_network(\n",
        "    [\n",
        "        Layer(784, 300),\n",
        "        Layer(300, 100),\n",
        "        Layer(100, 10)\n",
        "    ]\n",
        ")"
      ],
      "metadata": {
        "id": "kUdl9iXP_Ee3",
        "ExecuteTime": {
          "end_time": "2024-03-19T03:38:39.872991900Z",
          "start_time": "2024-03-19T03:38:39.865643900Z"
        }
      },
      "execution_count": null
    },
    {
      "cell_type": "code",
      "source": [
        "epochs = 400\n",
        "leraning_rate = 0.001\n",
        "history = model.train(X_train, Y_train, leraning_rate, epochs)"
      ],
      "metadata": {
        "colab": {
          "base_uri": "https://localhost:8080/"
        },
        "id": "iXlZ4ASm_r_U",
        "outputId": "a44fa733-3a5d-4703-add6-5e89b1ff318d",
        "ExecuteTime": {
          "end_time": "2024-03-19T03:38:55.643536700Z",
          "start_time": "2024-03-19T03:38:40.290273500Z"
        }
      },
      "execution_count": null,
      "outputs": [
        {
          "output_type": "stream",
          "name": "stderr",
          "text": [
            " 20%|██        | 80/400 [00:14<01:09,  4.62it/s]"
          ]
        },
        {
          "output_type": "stream",
          "name": "stdout",
          "text": [
            "Pérdida después de 20% de las épocas: 0.05633028391533505\n"
          ]
        },
        {
          "output_type": "stream",
          "name": "stderr",
          "text": [
            " 40%|████      | 160/400 [00:35<00:58,  4.14it/s]"
          ]
        },
        {
          "output_type": "stream",
          "name": "stdout",
          "text": [
            "Pérdida después de 40% de las épocas: 0.026383013848238115\n"
          ]
        },
        {
          "output_type": "stream",
          "name": "stderr",
          "text": [
            " 60%|██████    | 242/400 [00:49<00:11, 14.06it/s]"
          ]
        },
        {
          "output_type": "stream",
          "name": "stdout",
          "text": [
            "Pérdida después de 60% de las épocas: 0.015329442056540146\n"
          ]
        },
        {
          "output_type": "stream",
          "name": "stderr",
          "text": [
            " 80%|████████  | 322/400 [00:55<00:05, 13.61it/s]"
          ]
        },
        {
          "output_type": "stream",
          "name": "stdout",
          "text": [
            "Pérdida después de 80% de las épocas: 0.010115140208938741\n"
          ]
        },
        {
          "output_type": "stream",
          "name": "stderr",
          "text": [
            "100%|██████████| 400/400 [01:02<00:00,  6.38it/s]"
          ]
        },
        {
          "output_type": "stream",
          "name": "stdout",
          "text": [
            "Pérdida después de 100% de las épocas: 0.007262500060394841\n"
          ]
        },
        {
          "output_type": "stream",
          "name": "stderr",
          "text": [
            "\n"
          ]
        }
      ]
    },
    {
      "cell_type": "code",
      "outputs": [
        {
          "output_type": "display_data",
          "data": {
            "text/plain": [
              "<Figure size 640x480 with 1 Axes>"
            ],
            "image/png": "[encoded data removed]"
          },
          "metadata": {}
        }
      ],
      "source": [
        "plt.plot(history)\n",
        "plt.title(\"Pérdida durante el entrenamiento\")\n",
        "plt.xlabel(\"Épocas\")\n",
        "plt.ylabel(\"Pérdida\")\n",
        "plt.show()"
      ],
      "metadata": {
        "ExecuteTime": {
          "end_time": "2024-03-19T03:41:16.770549300Z",
          "start_time": "2024-03-19T03:41:16.629047500Z"
        },
        "colab": {
          "base_uri": "https://localhost:8080/",
          "height": 474
        },
        "id": "rV9N8LOI-_Am",
        "outputId": "71376de1-bbe3-43ec-9888-c73536641741"
      },
      "execution_count": null
    },
    {
      "cell_type": "code",
      "outputs": [],
      "source": [
        "import warnings\n",
        "warnings.filterwarnings(\"ignore\", category=RuntimeWarning)"
      ],
      "metadata": {
        "ExecuteTime": {
          "end_time": "2024-03-19T03:54:33.177977700Z",
          "start_time": "2024-03-19T03:54:33.168495700Z"
        },
        "id": "S7n1Rsnw-_Am"
      },
      "execution_count": null
    },
    {
      "cell_type": "code",
      "outputs": [
        {
          "output_type": "stream",
          "name": "stdout",
          "text": [
            "Precisión en el conjunto de entrenamiento: 99.78%\n",
            "Precisión en el conjunto de prueba: 87.0%\n"
          ]
        }
      ],
      "source": [
        "# Realizamos las predicciones para los conjuntos de entrenamiento y prueba\n",
        "predicciones_entrenamiento = model.predict(X_train)\n",
        "predicciones_prueba = model.predict(X_test)\n",
        "\n",
        "# Calculamos el número de predicciones correctas\n",
        "correctas_entrenamiento = sum(pred == y for pred, y in zip(predicciones_entrenamiento, Y_train))\n",
        "correctas_prueba = sum(pred == y for pred, y in zip(predicciones_prueba, Y_test))\n",
        "\n",
        "# Calculamos la precisión como un porcentaje con dos cifras decimales\n",
        "precision_entrenamiento = round((correctas_entrenamiento / len(Y_train)) * 100, 2)\n",
        "precision_prueba = round((correctas_prueba / len(Y_test)) * 100, 2)\n",
        "\n",
        "print(f'Precisión en el conjunto de entrenamiento: {precision_entrenamiento}%')\n",
        "print(f'Precisión en el conjunto de prueba: {precision_prueba}%')"
      ],
      "metadata": {
        "ExecuteTime": {
          "end_time": "2024-03-19T03:54:36.041148600Z",
          "start_time": "2024-03-19T03:54:35.998677600Z"
        },
        "colab": {
          "base_uri": "https://localhost:8080/"
        },
        "id": "hF-B0ba9-_Am",
        "outputId": "87667d4b-fcf5-46be-e934-b966dd57dbc2"
      },
      "execution_count": null
    },
    {
      "cell_type": "code",
      "outputs": [
        {
          "output_type": "display_data",
          "data": {
            "text/plain": [
              "<Figure size 640x480 with 1 Axes>"
            ],
            "image/png": "[encoded data removed]"
          },
          "metadata": {}
        },
        {
          "output_type": "stream",
          "name": "stdout",
          "text": [
            "Predicción: 5\n"
          ]
        }
      ],
      "source": [
        "# elegir un índice aleatorio y prededir la imagen con el modelo entrenado\n",
        "import random\n",
        "n = random.randint(0, 99)\n",
        "visualize_image(X_test, Y_test, n)\n",
        "\n",
        "randon_image = X_test[n]\n",
        "# Realizamos la predicción\n",
        "prediction = model.predict(randon_image)\n",
        "print(f'Predicción: {prediction[0]}')"
      ],
      "metadata": {
        "ExecuteTime": {
          "end_time": "2024-03-19T04:27:08.298228600Z",
          "start_time": "2024-03-19T04:27:08.228358600Z"
        },
        "colab": {
          "base_uri": "https://localhost:8080/",
          "height": 447
        },
        "id": "inrcITVH-_An",
        "outputId": "b02cabe0-5b4d-49a4-9f04-a86f9aeec67f"
      },
      "execution_count": 107
    },
    {
      "cell_type": "code",
      "outputs": [],
      "source": [],
      "metadata": {
        "id": "VLy82IRX-_An"
      },
      "execution_count": null
    }
  ]
}