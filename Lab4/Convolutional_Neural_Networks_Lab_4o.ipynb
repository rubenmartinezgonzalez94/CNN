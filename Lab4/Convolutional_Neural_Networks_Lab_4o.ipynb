{
 "nbformat": 4,
 "nbformat_minor": 0,
 "metadata": {
  "colab": {
   "provenance": []
  },
  "kernelspec": {
   "name": "python3",
   "language": "python",
   "display_name": "Python 3 (ipykernel)"
  },
  "language_info": {
   "name": "python"
  }
 },
 "cells": [
  {
   "cell_type": "markdown",
   "source": [
    "Artificial Neural Networks\n",
    "\n",
    "Implementar una Red Neuronal Artificial Multiclase para la clasificación de imágenes de dígitos  del 0 al 9 escritos a mano (handwriting digit recognition).\n"
   ],
   "metadata": {
    "id": "8EwyI8dPErMQ"
   }
  },
  {
   "cell_type": "code",
   "source": [
    "!pip install --upgrade gdown"
   ],
   "metadata": {
    "colab": {
     "base_uri": "https://localhost:8080/"
    },
    "id": "bEZDuwAWeIY2",
    "outputId": "b3bec1ba-84a8-441b-b34f-0bf34e71d961",
    "ExecuteTime": {
     "end_time": "2024-03-19T03:14:39.502448300Z",
     "start_time": "2024-03-19T03:14:33.234924500Z"
    }
   },
   "execution_count": 302,
   "outputs": [
    {
     "name": "stdout",
     "output_type": "stream",
     "text": [
      "Requirement already satisfied: gdown in c:\\users\\ruben\\anaconda3\\lib\\site-packages (5.1.0)\n",
      "Requirement already satisfied: beautifulsoup4 in c:\\users\\ruben\\anaconda3\\lib\\site-packages (from gdown) (4.12.2)\n",
      "Requirement already satisfied: filelock in c:\\users\\ruben\\anaconda3\\lib\\site-packages (from gdown) (3.9.0)\n",
      "Requirement already satisfied: requests[socks] in c:\\users\\ruben\\anaconda3\\lib\\site-packages (from gdown) (2.31.0)\n",
      "Requirement already satisfied: tqdm in c:\\users\\ruben\\anaconda3\\lib\\site-packages (from gdown) (4.65.0)\n",
      "Requirement already satisfied: soupsieve>1.2 in c:\\users\\ruben\\anaconda3\\lib\\site-packages (from beautifulsoup4->gdown) (2.4)\n",
      "Requirement already satisfied: charset-normalizer<4,>=2 in c:\\users\\ruben\\anaconda3\\lib\\site-packages (from requests[socks]->gdown) (2.0.4)\n",
      "Requirement already satisfied: idna<4,>=2.5 in c:\\users\\ruben\\anaconda3\\lib\\site-packages (from requests[socks]->gdown) (3.4)\n",
      "Requirement already satisfied: urllib3<3,>=1.21.1 in c:\\users\\ruben\\anaconda3\\lib\\site-packages (from requests[socks]->gdown) (1.26.16)\n",
      "Requirement already satisfied: certifi>=2017.4.17 in c:\\users\\ruben\\anaconda3\\lib\\site-packages (from requests[socks]->gdown) (2023.7.22)\n",
      "Requirement already satisfied: PySocks!=1.5.7,>=1.5.6 in c:\\users\\ruben\\anaconda3\\lib\\site-packages (from requests[socks]->gdown) (1.7.1)\n",
      "Requirement already satisfied: colorama in c:\\users\\ruben\\anaconda3\\lib\\site-packages (from tqdm->gdown) (0.4.6)\n"
     ]
    }
   ]
  },
  {
   "cell_type": "code",
   "source": [
    "!gdown --id 1x0JbCKDCGtynM6GnunAOdDYlyt7dI0B- -O mnist.txt"
   ],
   "metadata": {
    "colab": {
     "base_uri": "https://localhost:8080/"
    },
    "id": "aJFzj-QqGU4J",
    "outputId": "2dcf9f21-70eb-421b-8fe4-70316aab4cd9",
    "ExecuteTime": {
     "end_time": "2024-03-19T03:14:43.401776200Z",
     "start_time": "2024-03-19T03:14:39.503445700Z"
    }
   },
   "execution_count": 303,
   "outputs": [
    {
     "name": "stderr",
     "output_type": "stream",
     "text": [
      "C:\\Users\\ruben\\anaconda3\\Lib\\site-packages\\gdown\\__main__.py:132: FutureWarning: Option `--id` was deprecated in version 4.3.1 and will be removed in 5.0. You don't need to pass it anymore to use a file ID.\n",
      "  warnings.warn(\n",
      "Downloading...\n",
      "From: https://drive.google.com/uc?id=1x0JbCKDCGtynM6GnunAOdDYlyt7dI0B-\n",
      "To: E:\\UADY\\2\\CNN\\Lab4\\machine_learning\\mnist.txt\n",
      "\n",
      "  0%|          | 0.00/9.13M [00:00<?, ?B/s]\n",
      "  6%|5         | 524k/9.13M [00:00<00:03, 2.37MB/s]\n",
      " 17%|#7        | 1.57M/9.13M [00:00<00:01, 5.16MB/s]\n",
      " 29%|##8       | 2.62M/9.13M [00:00<00:01, 6.49MB/s]\n",
      " 46%|####5     | 4.19M/9.13M [00:00<00:00, 8.32MB/s]\n",
      " 63%|######3   | 5.77M/9.13M [00:00<00:00, 9.53MB/s]\n",
      " 80%|########  | 7.34M/9.13M [00:00<00:00, 10.3MB/s]\n",
      " 98%|#########7| 8.91M/9.13M [00:01<00:00, 10.7MB/s]\n",
      "100%|##########| 9.13M/9.13M [00:01<00:00, 8.95MB/s]\n"
     ]
    }
   ]
  },
  {
   "cell_type": "code",
   "source": [
    "import numpy as np\n",
    "import matplotlib.pyplot as plt"
   ],
   "metadata": {
    "id": "QQmNw-J_nyWP",
    "ExecuteTime": {
     "end_time": "2024-03-19T03:14:43.406014100Z",
     "start_time": "2024-03-19T03:14:43.404015200Z"
    }
   },
   "execution_count": 304,
   "outputs": []
  },
  {
   "cell_type": "markdown",
   "source": [
    " la base de datos consiste en 785 elementos separados por comas, donde los\n",
    "primeros 784 valores identifican los pixeles de la imágen del dígito, y el último valor del renglón\n",
    "indica la clase a la que pertenece"
   ],
   "metadata": {
    "id": "8yINHWqdepvf"
   }
  },
  {
   "cell_type": "code",
   "source": [
    "import numpy as np\n",
    "\n",
    "def load_data(file_path):\n",
    "    with open(file_path) as file:\n",
    "        data = [line.strip().split(\" \") for line in file]\n",
    "        features = [np.asarray(data_point[:784], dtype=float) for data_point in data] # pixeles de la imágen\n",
    "        labels = [float(data_point[-1]) for data_point in data]                       # clase a la que pertenece\n",
    "\n",
    "    return features, labels"
   ],
   "metadata": {
    "id": "1Kz953sWDQe8",
    "ExecuteTime": {
     "end_time": "2024-03-19T03:14:43.411406500Z",
     "start_time": "2024-03-19T03:14:43.408008300Z"
    }
   },
   "execution_count": 305,
   "outputs": []
  },
  {
   "cell_type": "code",
   "source": [
    "def visualize_image(images, labels, n):\n",
    "    if n >= len(images):\n",
    "        print(\"El índice n está fuera del rango.\")\n",
    "        return\n",
    "    image = images[n].reshape(28, 28)  # reconstruye la imagen en una matriz de 28x28\n",
    "    label = int(labels[n])\n",
    "\n",
    "    plt.imshow(image, cmap='gray')\n",
    "    plt.title(f\"Imagen del dígito: {label} índice:{n}\")\n",
    "    plt.axis('off')\n",
    "    plt.show()"
   ],
   "metadata": {
    "id": "tQFE9l2ln0iW",
    "ExecuteTime": {
     "end_time": "2024-03-19T04:24:41.396229700Z",
     "start_time": "2024-03-19T04:24:41.369793300Z"
    }
   },
   "execution_count": 363,
   "outputs": []
  },
  {
   "cell_type": "code",
   "source": [
    "# Cargar los datos\n",
    "file_path = \"mnist.txt\"\n",
    "images, labels = load_data(file_path)\n",
    "print(len(images))\n",
    "print(len(labels))"
   ],
   "metadata": {
    "colab": {
     "base_uri": "https://localhost:8080/"
    },
    "id": "FFj6ucNMjniu",
    "outputId": "05aa42a2-513b-4fd4-d018-eee6d37a8e18",
    "ExecuteTime": {
     "end_time": "2024-03-19T03:14:44.009711100Z",
     "start_time": "2024-03-19T03:14:43.416065400Z"
    }
   },
   "execution_count": 307,
   "outputs": [
    {
     "name": "stdout",
     "output_type": "stream",
     "text": [
      "5000\n",
      "5000\n"
     ]
    }
   ]
  },
  {
   "cell_type": "code",
   "source": [
    "# Visualizar la imagen en la posición n\n",
    "import random\n",
    "n = random.randint(0, 5000)\n",
    "visualize_image(images, labels, n)"
   ],
   "metadata": {
    "colab": {
     "base_uri": "https://localhost:8080/",
     "height": 429
    },
    "id": "x5FaAKM9qAu2",
    "outputId": "e3c514ba-17fd-4df9-9a06-213b24a6dd40",
    "ExecuteTime": {
     "end_time": "2024-03-19T03:14:44.077092300Z",
     "start_time": "2024-03-19T03:14:44.008716900Z"
    }
   },
   "execution_count": 308,
   "outputs": [
    {
     "data": {
      "text/plain": "<Figure size 640x480 with 1 Axes>",
      "image/png": "[encoded data removed]"
     },
     "metadata": {},
     "output_type": "display_data"
    }
   ]
  },
  {
   "cell_type": "code",
   "source": [
    "class CrossEntropy:\n",
    "    def __init__(self, epsilon=1e-10):# Valor pequeño para evitar errores matemáticos\n",
    "        self.epsilon = epsilon\n",
    "\n",
    "    def __call__(self, P, Y): # Función de costo de entropía cruzada\n",
    "        return -np.mean(Y * np.log(P + self.epsilon) + (1 - Y) * np.log(1 - P + self.epsilon))\n",
    "\n",
    "    def derivative(self, P, Y):\n",
    "        return -(Y / (P + self.epsilon)) + (1 - Y) / (1 - P + self.epsilon)"
   ],
   "metadata": {
    "collapsed": false,
    "ExecuteTime": {
     "end_time": "2024-03-19T03:14:44.084885400Z",
     "start_time": "2024-03-19T03:14:44.080388600Z"
    }
   },
   "execution_count": 309,
   "outputs": []
  },
  {
   "cell_type": "code",
   "source": [
    "class Layer:\n",
    "    def __init__(self, connexions, neurons):\n",
    "        self.bias = np.random.rand(1, neurons) * 2 - 1\n",
    "        self.weights = np.random.rand(connexions, neurons) * 2 - 1\n",
    "        \n",
    "class Sigmoid: # Sigmoid Activation function\n",
    "    def __call__(self, x):\n",
    "        return 1 / (1 + np.e ** (-x))\n",
    "\n",
    "    def derivative(self, x):\n",
    "        return x * (1 - x)"
   ],
   "metadata": {
    "id": "mf5tY3PRvrjn",
    "ExecuteTime": {
     "end_time": "2024-03-19T03:14:44.089552200Z",
     "start_time": "2024-03-19T03:14:44.083886200Z"
    }
   },
   "execution_count": 310,
   "outputs": []
  },
  {
   "cell_type": "code",
   "outputs": [
    {
     "name": "stdout",
     "output_type": "stream",
     "text": [
      "Requirement already satisfied: tensorflow in c:\\users\\ruben\\anaconda3\\lib\\site-packages (2.16.1)\n",
      "Requirement already satisfied: tensorflow-intel==2.16.1 in c:\\users\\ruben\\anaconda3\\lib\\site-packages (from tensorflow) (2.16.1)\n",
      "Requirement already satisfied: absl-py>=1.0.0 in c:\\users\\ruben\\anaconda3\\lib\\site-packages (from tensorflow-intel==2.16.1->tensorflow) (2.1.0)\n",
      "Requirement already satisfied: astunparse>=1.6.0 in c:\\users\\ruben\\anaconda3\\lib\\site-packages (from tensorflow-intel==2.16.1->tensorflow) (1.6.3)\n",
      "Requirement already satisfied: flatbuffers>=23.5.26 in c:\\users\\ruben\\anaconda3\\lib\\site-packages (from tensorflow-intel==2.16.1->tensorflow) (24.3.7)\n",
      "Requirement already satisfied: gast!=0.5.0,!=0.5.1,!=0.5.2,>=0.2.1 in c:\\users\\ruben\\anaconda3\\lib\\site-packages (from tensorflow-intel==2.16.1->tensorflow) (0.5.4)\n",
      "Requirement already satisfied: google-pasta>=0.1.1 in c:\\users\\ruben\\anaconda3\\lib\\site-packages (from tensorflow-intel==2.16.1->tensorflow) (0.2.0)\n",
      "Requirement already satisfied: h5py>=3.10.0 in c:\\users\\ruben\\anaconda3\\lib\\site-packages (from tensorflow-intel==2.16.1->tensorflow) (3.10.0)\n",
      "Requirement already satisfied: libclang>=13.0.0 in c:\\users\\ruben\\anaconda3\\lib\\site-packages (from tensorflow-intel==2.16.1->tensorflow) (18.1.1)\n",
      "Requirement already satisfied: ml-dtypes~=0.3.1 in c:\\users\\ruben\\anaconda3\\lib\\site-packages (from tensorflow-intel==2.16.1->tensorflow) (0.3.2)\n",
      "Requirement already satisfied: opt-einsum>=2.3.2 in c:\\users\\ruben\\anaconda3\\lib\\site-packages (from tensorflow-intel==2.16.1->tensorflow) (3.3.0)\n",
      "Requirement already satisfied: packaging in c:\\users\\ruben\\anaconda3\\lib\\site-packages (from tensorflow-intel==2.16.1->tensorflow) (23.1)\n",
      "Requirement already satisfied: protobuf!=4.21.0,!=4.21.1,!=4.21.2,!=4.21.3,!=4.21.4,!=4.21.5,<5.0.0dev,>=3.20.3 in c:\\users\\ruben\\anaconda3\\lib\\site-packages (from tensorflow-intel==2.16.1->tensorflow) (4.25.3)\n",
      "Requirement already satisfied: requests<3,>=2.21.0 in c:\\users\\ruben\\anaconda3\\lib\\site-packages (from tensorflow-intel==2.16.1->tensorflow) (2.31.0)\n",
      "Requirement already satisfied: setuptools in c:\\users\\ruben\\anaconda3\\lib\\site-packages (from tensorflow-intel==2.16.1->tensorflow) (68.0.0)\n",
      "Requirement already satisfied: six>=1.12.0 in c:\\users\\ruben\\anaconda3\\lib\\site-packages (from tensorflow-intel==2.16.1->tensorflow) (1.16.0)\n",
      "Requirement already satisfied: termcolor>=1.1.0 in c:\\users\\ruben\\anaconda3\\lib\\site-packages (from tensorflow-intel==2.16.1->tensorflow) (2.4.0)\n",
      "Requirement already satisfied: typing-extensions>=3.6.6 in c:\\users\\ruben\\anaconda3\\lib\\site-packages (from tensorflow-intel==2.16.1->tensorflow) (4.7.1)\n",
      "Requirement already satisfied: wrapt>=1.11.0 in c:\\users\\ruben\\anaconda3\\lib\\site-packages (from tensorflow-intel==2.16.1->tensorflow) (1.14.1)\n",
      "Requirement already satisfied: grpcio<2.0,>=1.24.3 in c:\\users\\ruben\\anaconda3\\lib\\site-packages (from tensorflow-intel==2.16.1->tensorflow) (1.62.1)\n",
      "Requirement already satisfied: tensorboard<2.17,>=2.16 in c:\\users\\ruben\\anaconda3\\lib\\site-packages (from tensorflow-intel==2.16.1->tensorflow) (2.16.2)\n",
      "Requirement already satisfied: keras>=3.0.0 in c:\\users\\ruben\\anaconda3\\lib\\site-packages (from tensorflow-intel==2.16.1->tensorflow) (3.0.5)\n",
      "Requirement already satisfied: tensorflow-io-gcs-filesystem>=0.23.1 in c:\\users\\ruben\\anaconda3\\lib\\site-packages (from tensorflow-intel==2.16.1->tensorflow) (0.31.0)\n",
      "Requirement already satisfied: numpy<2.0.0,>=1.23.5 in c:\\users\\ruben\\anaconda3\\lib\\site-packages (from tensorflow-intel==2.16.1->tensorflow) (1.24.3)\n",
      "Requirement already satisfied: wheel<1.0,>=0.23.0 in c:\\users\\ruben\\anaconda3\\lib\\site-packages (from astunparse>=1.6.0->tensorflow-intel==2.16.1->tensorflow) (0.38.4)\n",
      "Requirement already satisfied: rich in c:\\users\\ruben\\anaconda3\\lib\\site-packages (from keras>=3.0.0->tensorflow-intel==2.16.1->tensorflow) (13.7.1)\n",
      "Requirement already satisfied: namex in c:\\users\\ruben\\anaconda3\\lib\\site-packages (from keras>=3.0.0->tensorflow-intel==2.16.1->tensorflow) (0.0.7)\n",
      "Requirement already satisfied: dm-tree in c:\\users\\ruben\\anaconda3\\lib\\site-packages (from keras>=3.0.0->tensorflow-intel==2.16.1->tensorflow) (0.1.8)\n",
      "Requirement already satisfied: charset-normalizer<4,>=2 in c:\\users\\ruben\\anaconda3\\lib\\site-packages (from requests<3,>=2.21.0->tensorflow-intel==2.16.1->tensorflow) (2.0.4)\n",
      "Requirement already satisfied: idna<4,>=2.5 in c:\\users\\ruben\\anaconda3\\lib\\site-packages (from requests<3,>=2.21.0->tensorflow-intel==2.16.1->tensorflow) (3.4)\n",
      "Requirement already satisfied: urllib3<3,>=1.21.1 in c:\\users\\ruben\\anaconda3\\lib\\site-packages (from requests<3,>=2.21.0->tensorflow-intel==2.16.1->tensorflow) (1.26.16)\n",
      "Requirement already satisfied: certifi>=2017.4.17 in c:\\users\\ruben\\anaconda3\\lib\\site-packages (from requests<3,>=2.21.0->tensorflow-intel==2.16.1->tensorflow) (2023.7.22)\n",
      "Requirement already satisfied: markdown>=2.6.8 in c:\\users\\ruben\\anaconda3\\lib\\site-packages (from tensorboard<2.17,>=2.16->tensorflow-intel==2.16.1->tensorflow) (3.4.1)\n",
      "Requirement already satisfied: tensorboard-data-server<0.8.0,>=0.7.0 in c:\\users\\ruben\\anaconda3\\lib\\site-packages (from tensorboard<2.17,>=2.16->tensorflow-intel==2.16.1->tensorflow) (0.7.2)\n",
      "Requirement already satisfied: werkzeug>=1.0.1 in c:\\users\\ruben\\anaconda3\\lib\\site-packages (from tensorboard<2.17,>=2.16->tensorflow-intel==2.16.1->tensorflow) (2.2.3)\n",
      "Requirement already satisfied: MarkupSafe>=2.1.1 in c:\\users\\ruben\\anaconda3\\lib\\site-packages (from werkzeug>=1.0.1->tensorboard<2.17,>=2.16->tensorflow-intel==2.16.1->tensorflow) (2.1.1)\n",
      "Requirement already satisfied: markdown-it-py>=2.2.0 in c:\\users\\ruben\\anaconda3\\lib\\site-packages (from rich->keras>=3.0.0->tensorflow-intel==2.16.1->tensorflow) (2.2.0)\n",
      "Requirement already satisfied: pygments<3.0.0,>=2.13.0 in c:\\users\\ruben\\anaconda3\\lib\\site-packages (from rich->keras>=3.0.0->tensorflow-intel==2.16.1->tensorflow) (2.15.1)\n",
      "Requirement already satisfied: mdurl~=0.1 in c:\\users\\ruben\\anaconda3\\lib\\site-packages (from markdown-it-py>=2.2.0->rich->keras>=3.0.0->tensorflow-intel==2.16.1->tensorflow) (0.1.0)\n"
     ]
    }
   ],
   "source": [
    "!pip install tensorflow\n",
    "from tensorflow.keras.utils import to_categorical"
   ],
   "metadata": {
    "collapsed": false,
    "ExecuteTime": {
     "end_time": "2024-03-19T03:14:50.035561900Z",
     "start_time": "2024-03-19T03:14:44.089552200Z"
    }
   },
   "execution_count": 311
  },
  {
   "cell_type": "code",
   "source": [
    "# Class to instatiate the model\n",
    "class neural_network():\n",
    "    def __init__(self, layers):\n",
    "        self.layers = layers\n",
    "        self.cost_function = CrossEntropy()\n",
    "\n",
    "    def _forward_propagation(self, input_data):\n",
    "        activation = Sigmoid()\n",
    "        fwrd_result = [(None, input_data)] \n",
    "        for l, layer in enumerate(self.layers):\n",
    "            z = fwrd_result[-1][1] @ layer.weights + layer.bias\n",
    "            a = activation(z)\n",
    "            fwrd_result.append((z, a))\n",
    "        return fwrd_result\n",
    "\n",
    "    def _backward_propagation(self, labels, fwrd_pass): \n",
    "        activation = Sigmoid()\n",
    "        gradients = list()\n",
    "        for layer_index, layer in reversed(list(enumerate(self.layers))): # Iteramos las capas de atrás hacia adelante\n",
    "            current_weight = fwrd_pass[layer_index+1][1]\n",
    "            if not gradients: #  capa de salida  derivada de la función de coste\n",
    "                gradients.insert(0, self.cost_function.derivative(current_weight, labels) * activation.derivative(current_weight)) \n",
    "            else:\n",
    "                previous_layer_weights = self.layers[layer_index + 1].weights.T\n",
    "                gradients.insert(0, gradients[0] @ previous_layer_weights * activation.derivative(current_weight))\n",
    "        return gradients\n",
    "\n",
    "    def train(self, X, Y, learning_rate, epochs):\n",
    "        history = list()\n",
    "        print_interval = epochs // 5  # Imprimir la pérdida cada 20% del entrenamiento\n",
    "        \n",
    "        for epoch  in tqdm(range(epochs)):\n",
    "            # calcular (a,z) para cada capa y almacenarlos en una lista\n",
    "            forward_pass = self._forward_propagation(X/255) \n",
    "            \n",
    "            # Calcular la pérdida para seguir el rendimiento del modelo durante el entrenamiento\n",
    "            loss = self.cost_function(forward_pass[-1][1], to_categorical(Y)) \n",
    "            \n",
    "            # calcular las derivadas de la función de coste con respecto a los pesos y sesgos (gradientes)\n",
    "            gradients = self._backward_propagation(to_categorical(Y), forward_pass) \n",
    "    \n",
    "            # Actualización de los pesos y sesgos \n",
    "            for layer_index, _ in reversed(list(enumerate(self.layers))): \n",
    "                layer = self.layers[layer_index]\n",
    "                layer.bias -= learning_rate * np.mean(gradients[layer_index], axis=0, keepdims=True)\n",
    "                layer.weights -= learning_rate * forward_pass[layer_index][1].T @ gradients[layer_index]\n",
    "    \n",
    "            history.append(loss)\n",
    "            \n",
    "            # Imprimir la pérdida cada 20% de las épocas\n",
    "            if (epoch + 1) % print_interval == 0:\n",
    "                print(f'Pérdida después de {((epoch+1)/epochs) * 100:.0f}% de las épocas: {loss}')\n",
    "      \n",
    "        return history\n",
    "\n",
    "    def predict(self, X):\n",
    "        # Realizamos la propagación hacia adelante\n",
    "        forward_pass = self._forward_propagation(X)\n",
    "        \n",
    "        # Obtenemos las activaciones de la última capa\n",
    "        last_layer_activations = forward_pass[-1][1]\n",
    "        \n",
    "        # Para cada conjunto de activaciones, seleccionamos el índice con la mayor activación\n",
    "        predictions = [np.argmax(activations) for activations in last_layer_activations]\n",
    "        \n",
    "        return predictions"
   ],
   "metadata": {
    "id": "gIajuUr8_zzM",
    "ExecuteTime": {
     "end_time": "2024-03-19T03:31:08.979970700Z",
     "start_time": "2024-03-19T03:31:08.978965300Z"
    }
   },
   "execution_count": 322,
   "outputs": []
  },
  {
   "cell_type": "code",
   "source": [
    "from sklearn.model_selection import train_test_split"
   ],
   "metadata": {
    "id": "lzBemAyZBBSl",
    "ExecuteTime": {
     "end_time": "2024-03-19T03:14:50.051988400Z",
     "start_time": "2024-03-19T03:14:50.046900900Z"
    }
   },
   "execution_count": 313,
   "outputs": []
  },
  {
   "cell_type": "code",
   "source": [
    "from tqdm import tqdm"
   ],
   "metadata": {
    "id": "hKrJrvx4_56u",
    "ExecuteTime": {
     "end_time": "2024-03-19T03:14:50.055913Z",
     "start_time": "2024-03-19T03:14:50.050991Z"
    }
   },
   "execution_count": 314,
   "outputs": []
  },
  {
   "cell_type": "code",
   "outputs": [],
   "source": [
    "X_train, X_test, Y_train, Y_test = train_test_split(np.asarray(images[:1000]), labels[:1000], test_size=0.1, shuffle=True)"
   ],
   "metadata": {
    "id": "2edZJmRDAmKd",
    "ExecuteTime": {
     "end_time": "2024-03-19T03:14:50.063260800Z",
     "start_time": "2024-03-19T03:14:50.054916400Z"
    }
   },
   "execution_count": 315
  },
  {
   "cell_type": "code",
   "outputs": [],
   "source": [
    "model = neural_network(\n",
    "    [\n",
    "        Layer(784, 300),\n",
    "        Layer(300, 100),\n",
    "        Layer(100, 10)\n",
    "    ]\n",
    ")"
   ],
   "metadata": {
    "id": "kUdl9iXP_Ee3",
    "ExecuteTime": {
     "end_time": "2024-03-19T03:38:39.872991900Z",
     "start_time": "2024-03-19T03:38:39.865643900Z"
    }
   },
   "execution_count": 339
  },
  {
   "cell_type": "code",
   "source": [
    "epochs = 500\n",
    "leraning_rate = 0.001\n",
    "history = model.train(X_train, Y_train, leraning_rate, epochs)"
   ],
   "metadata": {
    "colab": {
     "base_uri": "https://localhost:8080/"
    },
    "id": "iXlZ4ASm_r_U",
    "outputId": "311cbfa1-94fc-47e0-c6fb-275d3e604b9a",
    "ExecuteTime": {
     "end_time": "2024-03-19T03:38:55.643536700Z",
     "start_time": "2024-03-19T03:38:40.290273500Z"
    }
   },
   "execution_count": 340,
   "outputs": [
    {
     "name": "stderr",
     "output_type": "stream",
     "text": [
      " 21%|██        | 104/500 [00:03<00:12, 31.91it/s]"
     ]
    },
    {
     "name": "stdout",
     "output_type": "stream",
     "text": [
      "Pérdida después de 20% de las épocas: 0.06357911374289263\n"
     ]
    },
    {
     "name": "stderr",
     "output_type": "stream",
     "text": [
      " 41%|████      | 204/500 [00:06<00:08, 33.13it/s]"
     ]
    },
    {
     "name": "stdout",
     "output_type": "stream",
     "text": [
      "Pérdida después de 40% de las épocas: 0.026869339029065003\n"
     ]
    },
    {
     "name": "stderr",
     "output_type": "stream",
     "text": [
      " 61%|██████    | 304/500 [00:09<00:05, 33.01it/s]"
     ]
    },
    {
     "name": "stdout",
     "output_type": "stream",
     "text": [
      "Pérdida después de 60% de las épocas: 0.014422900836331845\n"
     ]
    },
    {
     "name": "stderr",
     "output_type": "stream",
     "text": [
      " 81%|████████  | 404/500 [00:12<00:03, 31.99it/s]"
     ]
    },
    {
     "name": "stdout",
     "output_type": "stream",
     "text": [
      "Pérdida después de 80% de las épocas: 0.009047347293779508\n"
     ]
    },
    {
     "name": "stderr",
     "output_type": "stream",
     "text": [
      "100%|██████████| 500/500 [00:15<00:00, 32.58it/s]"
     ]
    },
    {
     "name": "stdout",
     "output_type": "stream",
     "text": [
      "Pérdida después de 100% de las épocas: 0.006390944745769875\n"
     ]
    },
    {
     "name": "stderr",
     "output_type": "stream",
     "text": [
      "\n"
     ]
    }
   ]
  },
  {
   "cell_type": "code",
   "outputs": [
    {
     "ename": "AttributeError",
     "evalue": "module 'networkx' has no attribute 'draw_graphviz'",
     "output_type": "error",
     "traceback": [
      "\u001B[1;31m---------------------------------------------------------------------------\u001B[0m",
      "\u001B[1;31mAttributeError\u001B[0m                            Traceback (most recent call last)",
      "Cell \u001B[1;32mIn[369], line 29\u001B[0m\n\u001B[0;32m     26\u001B[0m         G\u001B[38;5;241m.\u001B[39madd_edge(\u001B[38;5;124mf\u001B[39m\u001B[38;5;124m\"\u001B[39m\u001B[38;5;124mcapa_oculta_\u001B[39m\u001B[38;5;132;01m{\u001B[39;00mi\u001B[38;5;132;01m}\u001B[39;00m\u001B[38;5;124m\"\u001B[39m, \u001B[38;5;124mf\u001B[39m\u001B[38;5;124m\"\u001B[39m\u001B[38;5;124msalida_\u001B[39m\u001B[38;5;132;01m{\u001B[39;00mj\u001B[38;5;132;01m}\u001B[39;00m\u001B[38;5;124m\"\u001B[39m)\n\u001B[0;32m     28\u001B[0m \u001B[38;5;66;03m# Dibujar el grafo\u001B[39;00m\n\u001B[1;32m---> 29\u001B[0m nx\u001B[38;5;241m.\u001B[39mdraw_graphviz(G, prog\u001B[38;5;241m=\u001B[39m\u001B[38;5;124m\"\u001B[39m\u001B[38;5;124mdot\u001B[39m\u001B[38;5;124m\"\u001B[39m, node_attr\u001B[38;5;241m=\u001B[39m{\u001B[38;5;124m\"\u001B[39m\u001B[38;5;124mshape\u001B[39m\u001B[38;5;124m\"\u001B[39m: \u001B[38;5;124m\"\u001B[39m\u001B[38;5;124mcircle\u001B[39m\u001B[38;5;124m\"\u001B[39m, \u001B[38;5;124m\"\u001B[39m\u001B[38;5;124mfixedsize\u001B[39m\u001B[38;5;124m\"\u001B[39m: \u001B[38;5;124m\"\u001B[39m\u001B[38;5;124mtrue\u001B[39m\u001B[38;5;124m\"\u001B[39m, \u001B[38;5;124m\"\u001B[39m\u001B[38;5;124mwidth\u001B[39m\u001B[38;5;124m\"\u001B[39m: \u001B[38;5;124m\"\u001B[39m\u001B[38;5;124m0.5\u001B[39m\u001B[38;5;124m\"\u001B[39m}, font_size\u001B[38;5;241m=\u001B[39m\u001B[38;5;241m10\u001B[39m)\n\u001B[0;32m     30\u001B[0m plt\u001B[38;5;241m.\u001B[39mshow()\n",
      "\u001B[1;31mAttributeError\u001B[0m: module 'networkx' has no attribute 'draw_graphviz'"
     ]
    }
   ],
   "source": [
    "import networkx as nx\n",
    "import matplotlib.pyplot as plt\n",
    "\n",
    "# Crear un grafo dirigido\n",
    "G = nx.DiGraph()\n",
    "\n",
    "# Añadir las neuronas de entrada\n",
    "for i in range(784):\n",
    "    G.add_node(f\"entrada_{i}\")\n",
    "\n",
    "# Añadir las neuronas de la capa oculta\n",
    "for i in range(300):\n",
    "    G.add_node(f\"capa_oculta_{i}\")\n",
    "\n",
    "# Añadir las neuronas de salida\n",
    "for i in range(10):\n",
    "    G.add_node(f\"salida_{i}\")\n",
    "\n",
    "# Añadir las aristas entre las neuronas\n",
    "for i in range(784):\n",
    "    for j in range(300):\n",
    "        G.add_edge(f\"entrada_{i}\", f\"capa_oculta_{j}\")\n",
    "\n",
    "for i in range(300):\n",
    "    for j in range(10):\n",
    "        G.add_edge(f\"capa_oculta_{i}\", f\"salida_{j}\")\n",
    "\n",
    "# Dibujar el grafo\n",
    "nx.draw_graphviz(G, prog=\"dot\", node_attr={\"shape\": \"circle\", \"fixedsize\": \"true\", \"width\": \"0.5\"}, font_size=10)\n",
    "plt.show()"
   ],
   "metadata": {
    "collapsed": false,
    "ExecuteTime": {
     "end_time": "2024-03-19T06:11:44.961190100Z",
     "start_time": "2024-03-19T06:11:44.042090500Z"
    }
   },
   "execution_count": 369
  },
  {
   "cell_type": "code",
   "outputs": [
    {
     "data": {
      "text/plain": "<Figure size 640x480 with 1 Axes>",
      "image/png": "[encoded data removed]"
     },
     "metadata": {},
     "output_type": "display_data"
    }
   ],
   "source": [
    "plt.plot(history)\n",
    "plt.title(\"Pérdida durante el entrenamiento\")\n",
    "plt.xlabel(\"Épocas\")\n",
    "plt.ylabel(\"Pérdida\")\n",
    "plt.show()"
   ],
   "metadata": {
    "collapsed": false,
    "ExecuteTime": {
     "end_time": "2024-03-19T03:41:16.770549300Z",
     "start_time": "2024-03-19T03:41:16.629047500Z"
    }
   },
   "execution_count": 342
  },
  {
   "cell_type": "code",
   "outputs": [],
   "source": [
    "import warnings\n",
    "warnings.filterwarnings(\"ignore\", category=RuntimeWarning)"
   ],
   "metadata": {
    "collapsed": false,
    "ExecuteTime": {
     "end_time": "2024-03-19T03:54:33.177977700Z",
     "start_time": "2024-03-19T03:54:33.168495700Z"
    }
   },
   "execution_count": 347
  },
  {
   "cell_type": "code",
   "outputs": [
    {
     "name": "stdout",
     "output_type": "stream",
     "text": [
      "Precisión en el conjunto de entrenamiento: 99.78%\n",
      "Precisión en el conjunto de prueba: 87.0%\n"
     ]
    }
   ],
   "source": [
    "# Realizamos las predicciones para los conjuntos de entrenamiento y prueba\n",
    "predicciones_entrenamiento = model.predict(X_train)\n",
    "predicciones_prueba = model.predict(X_test)\n",
    "\n",
    "# Calculamos el número de predicciones correctas\n",
    "correctas_entrenamiento = sum(pred == y for pred, y in zip(predicciones_entrenamiento, Y_train))\n",
    "correctas_prueba = sum(pred == y for pred, y in zip(predicciones_prueba, Y_test))\n",
    "\n",
    "# Calculamos la precisión como un porcentaje con dos cifras decimales\n",
    "precision_entrenamiento = round((correctas_entrenamiento / len(Y_train)) * 100, 2)\n",
    "precision_prueba = round((correctas_prueba / len(Y_test)) * 100, 2)\n",
    "\n",
    "print(f'Precisión en el conjunto de entrenamiento: {precision_entrenamiento}%')\n",
    "print(f'Precisión en el conjunto de prueba: {precision_prueba}%')"
   ],
   "metadata": {
    "collapsed": false,
    "ExecuteTime": {
     "end_time": "2024-03-19T03:54:36.041148600Z",
     "start_time": "2024-03-19T03:54:35.998677600Z"
    }
   },
   "execution_count": 348
  },
  {
   "cell_type": "code",
   "outputs": [
    {
     "data": {
      "text/plain": "<Figure size 640x480 with 1 Axes>",
      "image/png": "[encoded data removed]"
     },
     "metadata": {},
     "output_type": "display_data"
    },
    {
     "name": "stdout",
     "output_type": "stream",
     "text": [
      "Predicción: 7\n"
     ]
    }
   ],
   "source": [
    "# elegir un índice aleatorio y prededir la imagen con el modelo entrenado\n",
    "import random\n",
    "n = random.randint(0, 5000)\n",
    "visualize_image(images, labels, n)\n",
    "\n",
    "randon_image = images[n]\n",
    "# Realizamos la predicción\n",
    "prediction = model.predict(randon_image)\n",
    "print(f'Predicción: {prediction[0]}')"
   ],
   "metadata": {
    "collapsed": false,
    "ExecuteTime": {
     "end_time": "2024-03-19T04:27:08.298228600Z",
     "start_time": "2024-03-19T04:27:08.228358600Z"
    }
   },
   "execution_count": 368
  },
  {
   "cell_type": "code",
   "outputs": [],
   "source": [],
   "metadata": {
    "collapsed": false
   }
  }
 ]
}
