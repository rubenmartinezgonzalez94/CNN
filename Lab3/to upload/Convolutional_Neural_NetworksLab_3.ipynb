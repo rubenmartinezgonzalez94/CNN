{
  "nbformat": 4,
  "nbformat_minor": 0,
  "metadata": {
    "colab": {
      "provenance": []
    },
    "kernelspec": {
      "name": "python3",
      "display_name": "Python 3"
    },
    "language_info": {
      "name": "python"
    }
  },
  "cells": [
    {
      "cell_type": "markdown",
      "source": [
        "# Convolutional Neural Networks – Lab 3\n",
        "RUBEN MARTINEZ GONZALEZ"
      ],
      "metadata": {
        "id": "D5HZj59wkIhe"
      }
    },
    {
      "cell_type": "markdown",
      "source": [
        "Descarga de datos"
      ],
      "metadata": {
        "id": "ZGggx2Hb4bO_"
      }
    },
    {
      "cell_type": "code",
      "source": [
        "!gdown --id 1G1cO5KR_kKQCIvZOwxYh9jc-WcHUYQw4 -O ex2x.dat"
      ],
      "metadata": {
        "colab": {
          "base_uri": "https://localhost:8080/"
        },
        "id": "mq9N1ztVmTrV",
        "outputId": "ef4e8ab8-d95b-4ca1-e50d-cd82a196c83d"
      },
      "execution_count": null,
      "outputs": [
        {
          "output_type": "stream",
          "name": "stdout",
          "text": [
            "/usr/local/lib/python3.10/dist-packages/gdown/cli.py:138: FutureWarning: Option `--id` was deprecated in version 4.3.1 and will be removed in 5.0. You don't need to pass it anymore to use a file ID.\n",
            "  warnings.warn(\n",
            "Downloading...\n",
            "From: https://drive.google.com/uc?id=1G1cO5KR_kKQCIvZOwxYh9jc-WcHUYQw4\n",
            "To: /content/ex2x.dat\n",
            "100% 850/850 [00:00<00:00, 3.73MB/s]\n"
          ]
        }
      ]
    },
    {
      "cell_type": "code",
      "source": [
        "!gdown --id 1V5YKP9ON8_86HvI9jzGJqi_OWVBMfXL- -O ex2y.dat"
      ],
      "metadata": {
        "colab": {
          "base_uri": "https://localhost:8080/"
        },
        "id": "PVby-6KSmxgx",
        "outputId": "e1da6127-e286-4a8e-ac2b-0e0b1ffaed2e"
      },
      "execution_count": null,
      "outputs": [
        {
          "output_type": "stream",
          "name": "stdout",
          "text": [
            "/usr/local/lib/python3.10/dist-packages/gdown/cli.py:138: FutureWarning: Option `--id` was deprecated in version 4.3.1 and will be removed in 5.0. You don't need to pass it anymore to use a file ID.\n",
            "  warnings.warn(\n",
            "Downloading...\n",
            "From: https://drive.google.com/uc?id=1V5YKP9ON8_86HvI9jzGJqi_OWVBMfXL-\n",
            "To: /content/ex2y.dat\n",
            "100% 850/850 [00:00<00:00, 3.88MB/s]\n"
          ]
        }
      ]
    },
    {
      "cell_type": "markdown",
      "source": [
        "Implement Linear Regression using Gradient Descent to predict heights for  various boys based on their ages. Use a learning rate of α = 0.07. The y-values in the training set (“ex2y.dat”) are the heights measured in meters, and the x\u0002values in the training set (“ex2x.dat”) are the ages of the boys corresponding to  the heights.\n"
      ],
      "metadata": {
        "id": "sqUBRwJooJjs"
      }
    },
    {
      "cell_type": "code",
      "source": [
        "import numpy as np\n",
        "from random import random\n",
        "\n",
        "# Load the data\n",
        "X_train = np.loadtxt('ex2x.dat')\n",
        "y_train = np.loadtxt('ex2y.dat')\n",
        "\n",
        "# Initialize variables\n",
        "m = len(X_train)      # Number of training examples\n",
        "alpha = 0.07          # Learning rate\n",
        "theta = [random() - 0.5 for _ in range(2)] # Initial random parameters\n",
        "\n",
        "# Gradient descent iterations\n",
        "for i in range(1000):\n",
        "  # Predict heights based on current parameters\n",
        "  y_pred = theta[0] + theta[1] * X_train # hθ(x)= θ0 + θ1 * x\n",
        "\n",
        "  # Calculate the error\n",
        "  error = y_pred - y_train\n",
        "\n",
        "  # Update parameters using gradient descent algorithm\n",
        "  theta[0] -= alpha * (1/m) * np.sum(error)            # θ0:= θ0 - α *(1/m) ∑ [hθ(xi) - yi]\n",
        "  theta[1] -= alpha * (1/m) * np.sum(error * X_train)  # θ1:= θ1 - α *(1/m) ∑ [hθ(xi) - yi]*xi\n",
        "\n",
        "# Print the learned parameters\n",
        "print('Theta0:', theta[0])\n",
        "print('Theta1:', theta[1])\n"
      ],
      "metadata": {
        "colab": {
          "base_uri": "https://localhost:8080/"
        },
        "id": "0fFZAhXOoAyV",
        "outputId": "c8ecbe6e-eba0-4b95-8fc6-7d27bc2f8ce7"
      },
      "execution_count": null,
      "outputs": [
        {
          "output_type": "stream",
          "name": "stdout",
          "text": [
            "Theta0: 0.7496953978946869\n",
            "Theta1: 0.0639661559759239\n"
          ]
        }
      ]
    },
    {
      "cell_type": "markdown",
      "source": [
        "Plot your training data set and label the axes (“Height in meters”, “Age in years”)\n"
      ],
      "metadata": {
        "id": "zPXwOQ-hoUm9"
      }
    },
    {
      "cell_type": "code",
      "source": [
        "import matplotlib.pyplot as plt\n",
        "\n",
        "plt.scatter(X_train, y_train, marker='x', c='r')\n",
        "plt.title('Training Data')\n",
        "plt.xlabel('Age in years')\n",
        "plt.ylabel('Height in meters')\n",
        "plt.show()\n"
      ],
      "metadata": {
        "colab": {
          "base_uri": "https://localhost:8080/",
          "height": 472
        },
        "id": "BHT6J84_oPgN",
        "outputId": "6dc83395-4457-43f9-a6db-907ad3985341"
      },
      "execution_count": null,
      "outputs": [
        {
          "output_type": "display_data",
          "data": {
            "text/plain": [
              "<Figure size 640x480 with 1 Axes>"
            ],
            "image/png": "[encoded data removed]"
          },
          "metadata": {}
        }
      ]
    },
    {
      "cell_type": "markdown",
      "source": [
        "\n",
        "Initialize the parameters to θ = 0�⃗. Run one iteration of gradient descent from this  initial starting point. Record the value of your parameters after this first iteration\n"
      ],
      "metadata": {
        "id": "0pPgxUZfogy2"
      }
    },
    {
      "cell_type": "code",
      "source": [
        "\n",
        "# Initialize variables\n",
        "m = len(X_train)      # Number of training examples\n",
        "alpha = 0.07          # Learning rate\n",
        "theta = np.zeros(2)   # Initial parameters\n",
        "\n",
        "# Gradient descent iterations\n",
        "for i in range(1):\n",
        "  # Predict heights based on current parameters\n",
        "  y_pred = theta[0] + theta[1] * X_train # hθ(x)= θ0 + θ1 * x\n",
        "\n",
        "  # Calculate the error\n",
        "  error = y_pred - y_train\n",
        "\n",
        "  # Update parameters using gradient descent algorithm\n",
        "  theta[0] -= alpha * (1/m) * np.sum(error)            # θ0:= θ0 - α *(1/m) ∑ [hθ(xi) - yi]\n",
        "  theta[1] -= alpha * (1/m) * np.sum(error * X_train)  # θ1:= θ1 - α *(1/m) ∑ [hθ(xi) - yi]*xi\n",
        "\n",
        "# Print the parameters after one iteration\n",
        "print('Theta0 after one iteration:', theta[0])\n",
        "print('Theta1 after one iteration:', theta[1])\n"
      ],
      "metadata": {
        "colab": {
          "base_uri": "https://localhost:8080/"
        },
        "id": "Si6LA8UQod19",
        "outputId": "9f5e3f12-37dc-4369-c7a8-92271eda833b"
      },
      "execution_count": null,
      "outputs": [
        {
          "output_type": "stream",
          "name": "stdout",
          "text": [
            "Theta0 after one iteration: 0.07452802382200001\n",
            "Theta1 after one iteration: 0.38002167250780633\n"
          ]
        }
      ]
    },
    {
      "cell_type": "markdown",
      "source": [
        "Continue running gradient descent for more iterations until your parameters converge. Show your parameters final values\n"
      ],
      "metadata": {
        "id": "k6H9GmTNoxud"
      }
    },
    {
      "cell_type": "code",
      "source": [
        "\n",
        "# Continue gradient descent for more iterations\n",
        "for i in range(1000):\n",
        "  # Predict heights based on current parameters\n",
        "  y_pred = theta[0] + theta[1] * X_train # hθ(x)= θ0 + θ1 * x\n",
        "\n",
        "  # Calculate the error\n",
        "  error = y_pred - y_train\n",
        "\n",
        "  # Update parameters using gradient descent algorithm\n",
        "  theta[0] -= alpha * (1/m) * np.sum(error)            # θ0:= θ0 - α *(1/m) ∑ [hθ(xi) - yi]\n",
        "  theta[1] -= alpha * (1/m) * np.sum(error * X_train)  # θ1:= θ1 - α *(1/m) ∑ [hθ(xi) - yi]*xi\n",
        "\n",
        "# Print the final parameter values\n",
        "print('Final Theta0:', theta[0])\n",
        "print('Final Theta1:', theta[1])\n"
      ],
      "metadata": {
        "colab": {
          "base_uri": "https://localhost:8080/"
        },
        "id": "XNTgyCiHou8o",
        "outputId": "33525fbe-57b5-4f9e-86b5-fdf392fafbac"
      },
      "execution_count": null,
      "outputs": [
        {
          "output_type": "stream",
          "name": "stdout",
          "text": [
            "Final Theta0: 0.7496935425242035\n",
            "Final Theta1: 0.06396649353750601\n"
          ]
        }
      ]
    },
    {
      "cell_type": "markdown",
      "source": [
        "After convergence, plot the straight line fit from your algorithm on the same  graph as your training data.\n"
      ],
      "metadata": {
        "id": "w_dJVG_Do6kl"
      }
    },
    {
      "cell_type": "code",
      "source": [
        "\n",
        "# Plot the training data and the fitted line\n",
        "plt.scatter(X_train, y_train, marker='x', c='r', label='Training Data')\n",
        "plt.plot(X_train, theta[0] + theta[1] * X_train, color='b', label='Fitted Line')\n",
        "plt.title('Training Data with Fitted Line')\n",
        "plt.xlabel('Age in years')\n",
        "plt.ylabel('Height in meters')\n",
        "plt.legend()\n",
        "plt.show()\n"
      ],
      "metadata": {
        "colab": {
          "base_uri": "https://localhost:8080/",
          "height": 472
        },
        "id": "NcisT8Poo1NN",
        "outputId": "ad7879ef-32bc-44f1-d64a-6f41af698e34"
      },
      "execution_count": null,
      "outputs": [
        {
          "output_type": "display_data",
          "data": {
            "text/plain": [
              "<Figure size 640x480 with 1 Axes>"
            ],
            "image/png": "[encoded data removed]"
          },
          "metadata": {}
        }
      ]
    },
    {
      "cell_type": "markdown",
      "source": [
        "Finally, use your trained model to predict the height for two boys of age 3.5 and  age 7. Show your results.\n"
      ],
      "metadata": {
        "id": "xj1Tjy3upDtv"
      }
    },
    {
      "cell_type": "code",
      "source": [
        "\n",
        "# Predict heights for boys of age 3.5 and 7\n",
        "age_3_5_height = theta[0] + theta[1] * 3.5\n",
        "age_7_height = theta[0] + theta[1] * 7\n",
        "\n",
        "# Print the predicted heights\n",
        "print('Predicted height for a boy of age 3.5:', round(age_3_5_height,2))\n",
        "print('Predicted height for a boy of age 7:', round(age_7_height,2))\n"
      ],
      "metadata": {
        "colab": {
          "base_uri": "https://localhost:8080/"
        },
        "id": "EBn5YifVpAeF",
        "outputId": "930a5768-8a99-461a-b042-918ed870a97f"
      },
      "execution_count": null,
      "outputs": [
        {
          "output_type": "stream",
          "name": "stdout",
          "text": [
            "Predicted height for a boy of age 3.5: 0.97\n",
            "Predicted height for a boy of age 7: 1.2\n"
          ]
        }
      ]
    }
  ]
}